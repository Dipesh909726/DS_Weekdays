{
 "cells": [
  {
   "cell_type": "code",
   "execution_count": 1,
   "id": "6801b1bd-4106-42ab-a2a7-da256e0b5ae5",
   "metadata": {},
   "outputs": [],
   "source": [
    "import pandas as pd"
   ]
  },
  {
   "cell_type": "code",
   "execution_count": 2,
   "id": "00c8bf2f-e9c4-4ba7-9670-5f30aa41b2f6",
   "metadata": {},
   "outputs": [
    {
     "name": "stdout",
     "output_type": "stream",
     "text": [
      "    cars  passings\n",
      "0    BMW         3\n",
      "1  Volvo         7\n",
      "2   Ford         2\n"
     ]
    }
   ],
   "source": [
    "mydataset = {\n",
    "  'cars': [\"BMW\", \"Volvo\", \"Ford\"],\n",
    "  'passings': [3, 7, 2]\n",
    "}\n",
    "\n",
    "myvar = pd.DataFrame(mydataset)\n",
    "\n",
    "print(myvar)"
   ]
  },
  {
   "cell_type": "code",
   "execution_count": 3,
   "id": "771509e0-c3c4-483d-8461-9ae5160df5af",
   "metadata": {},
   "outputs": [
    {
     "name": "stdout",
     "output_type": "stream",
     "text": [
      "2.1.4\n"
     ]
    }
   ],
   "source": [
    "print(pd.__version__)"
   ]
  },
  {
   "cell_type": "code",
   "execution_count": 4,
   "id": "c82aaf0e-d133-4dfa-b808-024b887bd38b",
   "metadata": {},
   "outputs": [
    {
     "name": "stdout",
     "output_type": "stream",
     "text": [
      "0    1\n",
      "1    7\n",
      "2    2\n",
      "dtype: int64\n"
     ]
    }
   ],
   "source": [
    "a = [1, 7, 2]\n",
    "\n",
    "myvar_1 = pd.Series(a)\n",
    "\n",
    "print(myvar_1)"
   ]
  },
  {
   "cell_type": "code",
   "execution_count": 5,
   "id": "e9467c3e-4916-442d-8a7d-f76ccae30381",
   "metadata": {},
   "outputs": [
    {
     "name": "stdout",
     "output_type": "stream",
     "text": [
      "1\n"
     ]
    }
   ],
   "source": [
    "print(myvar_1[0])"
   ]
  },
  {
   "cell_type": "code",
   "execution_count": 6,
   "id": "e5dcd62b-aa23-4b8f-a2de-c57b4bc5f75f",
   "metadata": {},
   "outputs": [
    {
     "name": "stdout",
     "output_type": "stream",
     "text": [
      "x    1\n",
      "y    7\n",
      "z    2\n",
      "dtype: int64\n"
     ]
    }
   ],
   "source": [
    "a = [1, 7, 2]\n",
    "\n",
    "myvar = pd.Series(a, index = [\"x\", \"y\", \"z\"])\n",
    "\n",
    "print(myvar)"
   ]
  },
  {
   "cell_type": "code",
   "execution_count": 7,
   "id": "e2116a69-1be9-4ca7-b2dd-bd17589ebf25",
   "metadata": {},
   "outputs": [
    {
     "name": "stdout",
     "output_type": "stream",
     "text": [
      "7\n"
     ]
    }
   ],
   "source": [
    "print(myvar[\"y\"])"
   ]
  },
  {
   "cell_type": "code",
   "execution_count": 8,
   "id": "31e15f24-fffa-4473-a055-30f74b412da1",
   "metadata": {},
   "outputs": [
    {
     "name": "stdout",
     "output_type": "stream",
     "text": [
      "day1    420\n",
      "day2    380\n",
      "day3    390\n",
      "dtype: int64\n"
     ]
    }
   ],
   "source": [
    "calories = {\"day1\": 420, \"day2\": 380, \"day3\": 390}\n",
    "\n",
    "myvar = pd.Series(calories)\n",
    "\n",
    "print(myvar)"
   ]
  },
  {
   "cell_type": "code",
   "execution_count": 9,
   "id": "e0a30e28-a86f-45c5-9b60-8c6e2fc423a6",
   "metadata": {},
   "outputs": [
    {
     "name": "stdout",
     "output_type": "stream",
     "text": [
      "420\n"
     ]
    }
   ],
   "source": [
    "print(myvar[\"day1\"])"
   ]
  },
  {
   "cell_type": "code",
   "execution_count": 10,
   "id": "1619bb2b-fd79-4543-aee9-f1b3eb7458f6",
   "metadata": {},
   "outputs": [
    {
     "name": "stdout",
     "output_type": "stream",
     "text": [
      "day1    420\n",
      "day2    380\n",
      "dtype: int64\n"
     ]
    }
   ],
   "source": [
    "calories = {\"day1\": 420, \"day2\": 380, \"day3\": 390}\n",
    "\n",
    "myvar = pd.Series(calories, index = [\"day1\", \"day2\"])\n",
    "\n",
    "print(myvar)"
   ]
  },
  {
   "cell_type": "code",
   "execution_count": 12,
   "id": "3005f98f-4b51-499e-8441-0ecbaa03643f",
   "metadata": {},
   "outputs": [
    {
     "name": "stdout",
     "output_type": "stream",
     "text": [
      "   calories  duration  Value\n",
      "0       420        50    123\n",
      "1       380        40    250\n",
      "2       390        45    300\n"
     ]
    }
   ],
   "source": [
    "data = {\n",
    "  \"calories\": [420, 380, 390],\n",
    "  \"duration\": [50, 40, 45],\n",
    "    \"Value\": [123, 250, 300]\n",
    "}\n",
    "\n",
    "myvar = pd.DataFrame(data)\n",
    "\n",
    "print(myvar)"
   ]
  },
  {
   "cell_type": "code",
   "execution_count": 13,
   "id": "e6d3a381-1f57-432f-9dda-cded8d28dd73",
   "metadata": {},
   "outputs": [
    {
     "name": "stdout",
     "output_type": "stream",
     "text": [
      "calories    420\n",
      "duration     50\n",
      "Value       123\n",
      "Name: 0, dtype: int64\n"
     ]
    }
   ],
   "source": [
    "print(myvar.loc[0])"
   ]
  },
  {
   "cell_type": "code",
   "execution_count": 14,
   "id": "86b10e16-02e9-4aaf-b780-94118030d493",
   "metadata": {},
   "outputs": [
    {
     "name": "stdout",
     "output_type": "stream",
     "text": [
      "   calories  duration  Value\n",
      "0       420        50    123\n",
      "1       380        40    250\n"
     ]
    }
   ],
   "source": [
    "print(myvar.loc[[0, 1]])"
   ]
  },
  {
   "cell_type": "code",
   "execution_count": 16,
   "id": "93c41a71-ae80-4885-a9f7-b23152ecb32a",
   "metadata": {},
   "outputs": [
    {
     "name": "stdout",
     "output_type": "stream",
     "text": [
      "0    50\n",
      "1    40\n",
      "2    45\n",
      "Name: duration, dtype: int64\n"
     ]
    }
   ],
   "source": [
    "print(myvar.duration)"
   ]
  },
  {
   "cell_type": "code",
   "execution_count": 17,
   "id": "969524ba-77d5-46bc-8cd0-401e40403708",
   "metadata": {},
   "outputs": [
    {
     "name": "stdout",
     "output_type": "stream",
     "text": [
      "0    420\n",
      "1    380\n",
      "2    390\n",
      "Name: calories, dtype: int64\n"
     ]
    }
   ],
   "source": [
    "print(myvar.calories)"
   ]
  },
  {
   "cell_type": "markdown",
   "id": "84bb5f27-67b7-4c52-a6c4-488cf82534f4",
   "metadata": {},
   "source": [
    "## Reading data from a .csv file"
   ]
  },
  {
   "cell_type": "code",
   "execution_count": 18,
   "id": "3381b80e-e0e4-4c44-9faf-9ec21447165b",
   "metadata": {},
   "outputs": [],
   "source": [
    "df = pd.read_csv(\"sample.csv\")"
   ]
  },
  {
   "cell_type": "code",
   "execution_count": 19,
   "id": "54e2e89b-cad7-4b90-87a0-0a622c185278",
   "metadata": {},
   "outputs": [
    {
     "data": {
      "text/html": [
       "<div>\n",
       "<style scoped>\n",
       "    .dataframe tbody tr th:only-of-type {\n",
       "        vertical-align: middle;\n",
       "    }\n",
       "\n",
       "    .dataframe tbody tr th {\n",
       "        vertical-align: top;\n",
       "    }\n",
       "\n",
       "    .dataframe thead th {\n",
       "        text-align: right;\n",
       "    }\n",
       "</style>\n",
       "<table border=\"1\" class=\"dataframe\">\n",
       "  <thead>\n",
       "    <tr style=\"text-align: right;\">\n",
       "      <th></th>\n",
       "      <th>id</th>\n",
       "      <th>first_name</th>\n",
       "      <th>last_name</th>\n",
       "      <th>email</th>\n",
       "      <th>gender</th>\n",
       "      <th>ip_address</th>\n",
       "    </tr>\n",
       "  </thead>\n",
       "  <tbody>\n",
       "    <tr>\n",
       "      <th>0</th>\n",
       "      <td>1</td>\n",
       "      <td>Adamo</td>\n",
       "      <td>Rycraft</td>\n",
       "      <td>arycraft0@alibaba.com</td>\n",
       "      <td>Male</td>\n",
       "      <td>82.81.150.227</td>\n",
       "    </tr>\n",
       "    <tr>\n",
       "      <th>1</th>\n",
       "      <td>2</td>\n",
       "      <td>Ronald</td>\n",
       "      <td>Bunstone</td>\n",
       "      <td>rbunstone1@com.com</td>\n",
       "      <td>Male</td>\n",
       "      <td>204.53.254.54</td>\n",
       "    </tr>\n",
       "    <tr>\n",
       "      <th>2</th>\n",
       "      <td>3</td>\n",
       "      <td>Jandy</td>\n",
       "      <td>Marcroft</td>\n",
       "      <td>jmarcroft2@phpbb.com</td>\n",
       "      <td>Female</td>\n",
       "      <td>118.111.61.235</td>\n",
       "    </tr>\n",
       "    <tr>\n",
       "      <th>3</th>\n",
       "      <td>4</td>\n",
       "      <td>Cyndia</td>\n",
       "      <td>Benck</td>\n",
       "      <td>cbenck3@tuttocitta.it</td>\n",
       "      <td>Female</td>\n",
       "      <td>75.124.22.80</td>\n",
       "    </tr>\n",
       "    <tr>\n",
       "      <th>4</th>\n",
       "      <td>5</td>\n",
       "      <td>Bessie</td>\n",
       "      <td>Jotcham</td>\n",
       "      <td>bjotcham4@dell.com</td>\n",
       "      <td>Female</td>\n",
       "      <td>161.39.178.193</td>\n",
       "    </tr>\n",
       "    <tr>\n",
       "      <th>...</th>\n",
       "      <td>...</td>\n",
       "      <td>...</td>\n",
       "      <td>...</td>\n",
       "      <td>...</td>\n",
       "      <td>...</td>\n",
       "      <td>...</td>\n",
       "    </tr>\n",
       "    <tr>\n",
       "      <th>995</th>\n",
       "      <td>996</td>\n",
       "      <td>Hunfredo</td>\n",
       "      <td>Giannazzi</td>\n",
       "      <td>hgiannazzirn@prlog.org</td>\n",
       "      <td>Male</td>\n",
       "      <td>155.86.98.116</td>\n",
       "    </tr>\n",
       "    <tr>\n",
       "      <th>996</th>\n",
       "      <td>997</td>\n",
       "      <td>Cristobal</td>\n",
       "      <td>Blodget</td>\n",
       "      <td>cblodgetro@cpanel.net</td>\n",
       "      <td>Male</td>\n",
       "      <td>231.32.136.126</td>\n",
       "    </tr>\n",
       "    <tr>\n",
       "      <th>997</th>\n",
       "      <td>998</td>\n",
       "      <td>Mildrid</td>\n",
       "      <td>Badam</td>\n",
       "      <td>mbadamrp@chicagotribune.com</td>\n",
       "      <td>Female</td>\n",
       "      <td>15.26.74.240</td>\n",
       "    </tr>\n",
       "    <tr>\n",
       "      <th>998</th>\n",
       "      <td>999</td>\n",
       "      <td>Kimmi</td>\n",
       "      <td>Drinkwater</td>\n",
       "      <td>kdrinkwaterrq@geocities.com</td>\n",
       "      <td>Female</td>\n",
       "      <td>133.10.4.238</td>\n",
       "    </tr>\n",
       "    <tr>\n",
       "      <th>999</th>\n",
       "      <td>1000</td>\n",
       "      <td>Ortensia</td>\n",
       "      <td>Rolstone</td>\n",
       "      <td>orolstonerr@imdb.com</td>\n",
       "      <td>Bigender</td>\n",
       "      <td>46.218.124.31</td>\n",
       "    </tr>\n",
       "  </tbody>\n",
       "</table>\n",
       "<p>1000 rows × 6 columns</p>\n",
       "</div>"
      ],
      "text/plain": [
       "       id first_name   last_name                        email    gender  \\\n",
       "0       1      Adamo     Rycraft        arycraft0@alibaba.com      Male   \n",
       "1       2     Ronald    Bunstone           rbunstone1@com.com      Male   \n",
       "2       3      Jandy    Marcroft         jmarcroft2@phpbb.com    Female   \n",
       "3       4     Cyndia       Benck        cbenck3@tuttocitta.it    Female   \n",
       "4       5     Bessie     Jotcham           bjotcham4@dell.com    Female   \n",
       "..    ...        ...         ...                          ...       ...   \n",
       "995   996   Hunfredo   Giannazzi       hgiannazzirn@prlog.org      Male   \n",
       "996   997  Cristobal     Blodget        cblodgetro@cpanel.net      Male   \n",
       "997   998    Mildrid       Badam  mbadamrp@chicagotribune.com    Female   \n",
       "998   999      Kimmi  Drinkwater  kdrinkwaterrq@geocities.com    Female   \n",
       "999  1000   Ortensia    Rolstone         orolstonerr@imdb.com  Bigender   \n",
       "\n",
       "         ip_address  \n",
       "0     82.81.150.227  \n",
       "1     204.53.254.54  \n",
       "2    118.111.61.235  \n",
       "3      75.124.22.80  \n",
       "4    161.39.178.193  \n",
       "..              ...  \n",
       "995   155.86.98.116  \n",
       "996  231.32.136.126  \n",
       "997    15.26.74.240  \n",
       "998    133.10.4.238  \n",
       "999   46.218.124.31  \n",
       "\n",
       "[1000 rows x 6 columns]"
      ]
     },
     "execution_count": 19,
     "metadata": {},
     "output_type": "execute_result"
    }
   ],
   "source": [
    "df"
   ]
  },
  {
   "cell_type": "code",
   "execution_count": 22,
   "id": "e7a5a856-f04d-456c-8d4e-3f2757935e5d",
   "metadata": {},
   "outputs": [],
   "source": [
    "# viewing the first five rows"
   ]
  },
  {
   "cell_type": "code",
   "execution_count": 20,
   "id": "18430117-1b73-43ca-a26b-d8a1c31f0fd1",
   "metadata": {},
   "outputs": [
    {
     "data": {
      "text/html": [
       "<div>\n",
       "<style scoped>\n",
       "    .dataframe tbody tr th:only-of-type {\n",
       "        vertical-align: middle;\n",
       "    }\n",
       "\n",
       "    .dataframe tbody tr th {\n",
       "        vertical-align: top;\n",
       "    }\n",
       "\n",
       "    .dataframe thead th {\n",
       "        text-align: right;\n",
       "    }\n",
       "</style>\n",
       "<table border=\"1\" class=\"dataframe\">\n",
       "  <thead>\n",
       "    <tr style=\"text-align: right;\">\n",
       "      <th></th>\n",
       "      <th>id</th>\n",
       "      <th>first_name</th>\n",
       "      <th>last_name</th>\n",
       "      <th>email</th>\n",
       "      <th>gender</th>\n",
       "      <th>ip_address</th>\n",
       "    </tr>\n",
       "  </thead>\n",
       "  <tbody>\n",
       "    <tr>\n",
       "      <th>0</th>\n",
       "      <td>1</td>\n",
       "      <td>Adamo</td>\n",
       "      <td>Rycraft</td>\n",
       "      <td>arycraft0@alibaba.com</td>\n",
       "      <td>Male</td>\n",
       "      <td>82.81.150.227</td>\n",
       "    </tr>\n",
       "    <tr>\n",
       "      <th>1</th>\n",
       "      <td>2</td>\n",
       "      <td>Ronald</td>\n",
       "      <td>Bunstone</td>\n",
       "      <td>rbunstone1@com.com</td>\n",
       "      <td>Male</td>\n",
       "      <td>204.53.254.54</td>\n",
       "    </tr>\n",
       "    <tr>\n",
       "      <th>2</th>\n",
       "      <td>3</td>\n",
       "      <td>Jandy</td>\n",
       "      <td>Marcroft</td>\n",
       "      <td>jmarcroft2@phpbb.com</td>\n",
       "      <td>Female</td>\n",
       "      <td>118.111.61.235</td>\n",
       "    </tr>\n",
       "    <tr>\n",
       "      <th>3</th>\n",
       "      <td>4</td>\n",
       "      <td>Cyndia</td>\n",
       "      <td>Benck</td>\n",
       "      <td>cbenck3@tuttocitta.it</td>\n",
       "      <td>Female</td>\n",
       "      <td>75.124.22.80</td>\n",
       "    </tr>\n",
       "    <tr>\n",
       "      <th>4</th>\n",
       "      <td>5</td>\n",
       "      <td>Bessie</td>\n",
       "      <td>Jotcham</td>\n",
       "      <td>bjotcham4@dell.com</td>\n",
       "      <td>Female</td>\n",
       "      <td>161.39.178.193</td>\n",
       "    </tr>\n",
       "  </tbody>\n",
       "</table>\n",
       "</div>"
      ],
      "text/plain": [
       "   id first_name last_name                  email  gender      ip_address\n",
       "0   1      Adamo   Rycraft  arycraft0@alibaba.com    Male   82.81.150.227\n",
       "1   2     Ronald  Bunstone     rbunstone1@com.com    Male   204.53.254.54\n",
       "2   3      Jandy  Marcroft   jmarcroft2@phpbb.com  Female  118.111.61.235\n",
       "3   4     Cyndia     Benck  cbenck3@tuttocitta.it  Female    75.124.22.80\n",
       "4   5     Bessie   Jotcham     bjotcham4@dell.com  Female  161.39.178.193"
      ]
     },
     "execution_count": 20,
     "metadata": {},
     "output_type": "execute_result"
    }
   ],
   "source": [
    "df.head()"
   ]
  },
  {
   "cell_type": "code",
   "execution_count": 23,
   "id": "7977a588-51db-4681-a598-e3ec9236f9f5",
   "metadata": {},
   "outputs": [],
   "source": [
    "# viewing the last five rows"
   ]
  },
  {
   "cell_type": "code",
   "execution_count": 21,
   "id": "1d976b6f-3a4b-485b-9458-22310ef9568d",
   "metadata": {},
   "outputs": [
    {
     "data": {
      "text/html": [
       "<div>\n",
       "<style scoped>\n",
       "    .dataframe tbody tr th:only-of-type {\n",
       "        vertical-align: middle;\n",
       "    }\n",
       "\n",
       "    .dataframe tbody tr th {\n",
       "        vertical-align: top;\n",
       "    }\n",
       "\n",
       "    .dataframe thead th {\n",
       "        text-align: right;\n",
       "    }\n",
       "</style>\n",
       "<table border=\"1\" class=\"dataframe\">\n",
       "  <thead>\n",
       "    <tr style=\"text-align: right;\">\n",
       "      <th></th>\n",
       "      <th>id</th>\n",
       "      <th>first_name</th>\n",
       "      <th>last_name</th>\n",
       "      <th>email</th>\n",
       "      <th>gender</th>\n",
       "      <th>ip_address</th>\n",
       "    </tr>\n",
       "  </thead>\n",
       "  <tbody>\n",
       "    <tr>\n",
       "      <th>995</th>\n",
       "      <td>996</td>\n",
       "      <td>Hunfredo</td>\n",
       "      <td>Giannazzi</td>\n",
       "      <td>hgiannazzirn@prlog.org</td>\n",
       "      <td>Male</td>\n",
       "      <td>155.86.98.116</td>\n",
       "    </tr>\n",
       "    <tr>\n",
       "      <th>996</th>\n",
       "      <td>997</td>\n",
       "      <td>Cristobal</td>\n",
       "      <td>Blodget</td>\n",
       "      <td>cblodgetro@cpanel.net</td>\n",
       "      <td>Male</td>\n",
       "      <td>231.32.136.126</td>\n",
       "    </tr>\n",
       "    <tr>\n",
       "      <th>997</th>\n",
       "      <td>998</td>\n",
       "      <td>Mildrid</td>\n",
       "      <td>Badam</td>\n",
       "      <td>mbadamrp@chicagotribune.com</td>\n",
       "      <td>Female</td>\n",
       "      <td>15.26.74.240</td>\n",
       "    </tr>\n",
       "    <tr>\n",
       "      <th>998</th>\n",
       "      <td>999</td>\n",
       "      <td>Kimmi</td>\n",
       "      <td>Drinkwater</td>\n",
       "      <td>kdrinkwaterrq@geocities.com</td>\n",
       "      <td>Female</td>\n",
       "      <td>133.10.4.238</td>\n",
       "    </tr>\n",
       "    <tr>\n",
       "      <th>999</th>\n",
       "      <td>1000</td>\n",
       "      <td>Ortensia</td>\n",
       "      <td>Rolstone</td>\n",
       "      <td>orolstonerr@imdb.com</td>\n",
       "      <td>Bigender</td>\n",
       "      <td>46.218.124.31</td>\n",
       "    </tr>\n",
       "  </tbody>\n",
       "</table>\n",
       "</div>"
      ],
      "text/plain": [
       "       id first_name   last_name                        email    gender  \\\n",
       "995   996   Hunfredo   Giannazzi       hgiannazzirn@prlog.org      Male   \n",
       "996   997  Cristobal     Blodget        cblodgetro@cpanel.net      Male   \n",
       "997   998    Mildrid       Badam  mbadamrp@chicagotribune.com    Female   \n",
       "998   999      Kimmi  Drinkwater  kdrinkwaterrq@geocities.com    Female   \n",
       "999  1000   Ortensia    Rolstone         orolstonerr@imdb.com  Bigender   \n",
       "\n",
       "         ip_address  \n",
       "995   155.86.98.116  \n",
       "996  231.32.136.126  \n",
       "997    15.26.74.240  \n",
       "998    133.10.4.238  \n",
       "999   46.218.124.31  "
      ]
     },
     "execution_count": 21,
     "metadata": {},
     "output_type": "execute_result"
    }
   ],
   "source": [
    "df.tail()"
   ]
  },
  {
   "cell_type": "code",
   "execution_count": 25,
   "id": "d8051a7a-1fa9-4ed0-a355-060511aeb6bd",
   "metadata": {},
   "outputs": [],
   "source": [
    "# to load the whole dataset"
   ]
  },
  {
   "cell_type": "code",
   "execution_count": 26,
   "id": "41db0bca-cf88-434d-8ef5-6c7cd43d3673",
   "metadata": {},
   "outputs": [],
   "source": [
    "# print(df.to_string())"
   ]
  },
  {
   "cell_type": "code",
   "execution_count": 27,
   "id": "4e81468d-b9d9-487b-9623-d47640cbc5f8",
   "metadata": {},
   "outputs": [
    {
     "name": "stdout",
     "output_type": "stream",
     "text": [
      "<class 'pandas.core.frame.DataFrame'>\n",
      "RangeIndex: 1000 entries, 0 to 999\n",
      "Data columns (total 6 columns):\n",
      " #   Column      Non-Null Count  Dtype \n",
      "---  ------      --------------  ----- \n",
      " 0   id          1000 non-null   int64 \n",
      " 1   first_name  1000 non-null   object\n",
      " 2   last_name   1000 non-null   object\n",
      " 3   email       1000 non-null   object\n",
      " 4   gender      1000 non-null   object\n",
      " 5   ip_address  1000 non-null   object\n",
      "dtypes: int64(1), object(5)\n",
      "memory usage: 47.0+ KB\n"
     ]
    }
   ],
   "source": [
    "df.info()"
   ]
  },
  {
   "cell_type": "code",
   "execution_count": 28,
   "id": "41ef4712-28c5-4e9e-9f57-5c46c476325c",
   "metadata": {},
   "outputs": [
    {
     "name": "stdout",
     "output_type": "stream",
     "text": [
      "60\n"
     ]
    }
   ],
   "source": [
    "print(pd.options.display.max_rows)"
   ]
  },
  {
   "cell_type": "code",
   "execution_count": 29,
   "id": "1590b09d-93d7-47f3-8ef7-22c54b0fe10d",
   "metadata": {},
   "outputs": [],
   "source": [
    "df = pd.read_json('sample_json.json')"
   ]
  },
  {
   "cell_type": "code",
   "execution_count": 30,
   "id": "1d1732fc-03b8-4c77-928c-905c21dd9309",
   "metadata": {},
   "outputs": [
    {
     "data": {
      "text/html": [
       "<div>\n",
       "<style scoped>\n",
       "    .dataframe tbody tr th:only-of-type {\n",
       "        vertical-align: middle;\n",
       "    }\n",
       "\n",
       "    .dataframe tbody tr th {\n",
       "        vertical-align: top;\n",
       "    }\n",
       "\n",
       "    .dataframe thead th {\n",
       "        text-align: right;\n",
       "    }\n",
       "</style>\n",
       "<table border=\"1\" class=\"dataframe\">\n",
       "  <thead>\n",
       "    <tr style=\"text-align: right;\">\n",
       "      <th></th>\n",
       "      <th>id</th>\n",
       "      <th>first_name</th>\n",
       "      <th>last_name</th>\n",
       "      <th>email</th>\n",
       "      <th>gender</th>\n",
       "      <th>ip_address</th>\n",
       "    </tr>\n",
       "  </thead>\n",
       "  <tbody>\n",
       "    <tr>\n",
       "      <th>0</th>\n",
       "      <td>1</td>\n",
       "      <td>Giuditta</td>\n",
       "      <td>Garlic</td>\n",
       "      <td>ggarlic0@tinyurl.com</td>\n",
       "      <td>Female</td>\n",
       "      <td>125.212.228.253</td>\n",
       "    </tr>\n",
       "    <tr>\n",
       "      <th>1</th>\n",
       "      <td>2</td>\n",
       "      <td>Colline</td>\n",
       "      <td>Messager</td>\n",
       "      <td>cmessager1@yandex.ru</td>\n",
       "      <td>Female</td>\n",
       "      <td>163.143.102.144</td>\n",
       "    </tr>\n",
       "    <tr>\n",
       "      <th>2</th>\n",
       "      <td>3</td>\n",
       "      <td>Erv</td>\n",
       "      <td>Bremeyer</td>\n",
       "      <td>ebremeyer2@bravesites.com</td>\n",
       "      <td>Male</td>\n",
       "      <td>175.105.83.59</td>\n",
       "    </tr>\n",
       "    <tr>\n",
       "      <th>3</th>\n",
       "      <td>4</td>\n",
       "      <td>Rena</td>\n",
       "      <td>Ramey</td>\n",
       "      <td>rramey3@admin.ch</td>\n",
       "      <td>Female</td>\n",
       "      <td>220.132.245.64</td>\n",
       "    </tr>\n",
       "    <tr>\n",
       "      <th>4</th>\n",
       "      <td>5</td>\n",
       "      <td>Irvin</td>\n",
       "      <td>Cooke</td>\n",
       "      <td>icooke4@g.co</td>\n",
       "      <td>Male</td>\n",
       "      <td>197.110.237.182</td>\n",
       "    </tr>\n",
       "    <tr>\n",
       "      <th>...</th>\n",
       "      <td>...</td>\n",
       "      <td>...</td>\n",
       "      <td>...</td>\n",
       "      <td>...</td>\n",
       "      <td>...</td>\n",
       "      <td>...</td>\n",
       "    </tr>\n",
       "    <tr>\n",
       "      <th>995</th>\n",
       "      <td>996</td>\n",
       "      <td>Carolann</td>\n",
       "      <td>Cruces</td>\n",
       "      <td>ccrucesrn@wired.com</td>\n",
       "      <td>Female</td>\n",
       "      <td>62.73.33.206</td>\n",
       "    </tr>\n",
       "    <tr>\n",
       "      <th>996</th>\n",
       "      <td>997</td>\n",
       "      <td>Margarete</td>\n",
       "      <td>Fishbourne</td>\n",
       "      <td>mfishbournero@biglobe.ne.jp</td>\n",
       "      <td>Female</td>\n",
       "      <td>200.217.122.173</td>\n",
       "    </tr>\n",
       "    <tr>\n",
       "      <th>997</th>\n",
       "      <td>998</td>\n",
       "      <td>Babette</td>\n",
       "      <td>Ealam</td>\n",
       "      <td>bealamrp@tmall.com</td>\n",
       "      <td>Female</td>\n",
       "      <td>68.0.99.9</td>\n",
       "    </tr>\n",
       "    <tr>\n",
       "      <th>998</th>\n",
       "      <td>999</td>\n",
       "      <td>Leroi</td>\n",
       "      <td>Tassaker</td>\n",
       "      <td>ltassakerrq@blinklist.com</td>\n",
       "      <td>Male</td>\n",
       "      <td>198.79.41.11</td>\n",
       "    </tr>\n",
       "    <tr>\n",
       "      <th>999</th>\n",
       "      <td>1000</td>\n",
       "      <td>Griff</td>\n",
       "      <td>Pedri</td>\n",
       "      <td>gpedrirr@vimeo.com</td>\n",
       "      <td>Male</td>\n",
       "      <td>43.176.90.52</td>\n",
       "    </tr>\n",
       "  </tbody>\n",
       "</table>\n",
       "<p>1000 rows × 6 columns</p>\n",
       "</div>"
      ],
      "text/plain": [
       "       id first_name   last_name                        email  gender  \\\n",
       "0       1   Giuditta      Garlic         ggarlic0@tinyurl.com  Female   \n",
       "1       2    Colline    Messager         cmessager1@yandex.ru  Female   \n",
       "2       3        Erv    Bremeyer    ebremeyer2@bravesites.com    Male   \n",
       "3       4       Rena       Ramey             rramey3@admin.ch  Female   \n",
       "4       5      Irvin       Cooke                 icooke4@g.co    Male   \n",
       "..    ...        ...         ...                          ...     ...   \n",
       "995   996   Carolann      Cruces          ccrucesrn@wired.com  Female   \n",
       "996   997  Margarete  Fishbourne  mfishbournero@biglobe.ne.jp  Female   \n",
       "997   998    Babette       Ealam           bealamrp@tmall.com  Female   \n",
       "998   999      Leroi    Tassaker    ltassakerrq@blinklist.com    Male   \n",
       "999  1000      Griff       Pedri           gpedrirr@vimeo.com    Male   \n",
       "\n",
       "          ip_address  \n",
       "0    125.212.228.253  \n",
       "1    163.143.102.144  \n",
       "2      175.105.83.59  \n",
       "3     220.132.245.64  \n",
       "4    197.110.237.182  \n",
       "..               ...  \n",
       "995     62.73.33.206  \n",
       "996  200.217.122.173  \n",
       "997        68.0.99.9  \n",
       "998     198.79.41.11  \n",
       "999     43.176.90.52  \n",
       "\n",
       "[1000 rows x 6 columns]"
      ]
     },
     "execution_count": 30,
     "metadata": {},
     "output_type": "execute_result"
    }
   ],
   "source": [
    "df"
   ]
  },
  {
   "cell_type": "markdown",
   "id": "e1e796f3-abfc-4b25-86a4-14afb2359027",
   "metadata": {},
   "source": [
    "## Data from anywhere in your system"
   ]
  },
  {
   "cell_type": "code",
   "execution_count": 33,
   "id": "7a75f1fa-8fb6-4ce1-8a73-7633f44f2dca",
   "metadata": {},
   "outputs": [],
   "source": [
    "df = pd.read_csv(\"C:/Users/SkillCircle/Downloads/netflix_titles.csv\")"
   ]
  },
  {
   "cell_type": "code",
   "execution_count": 34,
   "id": "1efe4f3b-8d51-467d-8631-31972b4dc9e0",
   "metadata": {},
   "outputs": [
    {
     "data": {
      "text/html": [
       "<div>\n",
       "<style scoped>\n",
       "    .dataframe tbody tr th:only-of-type {\n",
       "        vertical-align: middle;\n",
       "    }\n",
       "\n",
       "    .dataframe tbody tr th {\n",
       "        vertical-align: top;\n",
       "    }\n",
       "\n",
       "    .dataframe thead th {\n",
       "        text-align: right;\n",
       "    }\n",
       "</style>\n",
       "<table border=\"1\" class=\"dataframe\">\n",
       "  <thead>\n",
       "    <tr style=\"text-align: right;\">\n",
       "      <th></th>\n",
       "      <th>show_id</th>\n",
       "      <th>type</th>\n",
       "      <th>title</th>\n",
       "      <th>director</th>\n",
       "      <th>cast</th>\n",
       "      <th>country</th>\n",
       "      <th>date_added</th>\n",
       "      <th>release_year</th>\n",
       "      <th>rating</th>\n",
       "      <th>duration</th>\n",
       "      <th>listed_in</th>\n",
       "      <th>description</th>\n",
       "    </tr>\n",
       "  </thead>\n",
       "  <tbody>\n",
       "    <tr>\n",
       "      <th>0</th>\n",
       "      <td>s1</td>\n",
       "      <td>Movie</td>\n",
       "      <td>Dick Johnson Is Dead</td>\n",
       "      <td>Kirsten Johnson</td>\n",
       "      <td>NaN</td>\n",
       "      <td>United States</td>\n",
       "      <td>September 25, 2021</td>\n",
       "      <td>2020</td>\n",
       "      <td>PG-13</td>\n",
       "      <td>90 min</td>\n",
       "      <td>Documentaries</td>\n",
       "      <td>As her father nears the end of his life, filmm...</td>\n",
       "    </tr>\n",
       "    <tr>\n",
       "      <th>1</th>\n",
       "      <td>s2</td>\n",
       "      <td>TV Show</td>\n",
       "      <td>Blood &amp; Water</td>\n",
       "      <td>NaN</td>\n",
       "      <td>Ama Qamata, Khosi Ngema, Gail Mabalane, Thaban...</td>\n",
       "      <td>South Africa</td>\n",
       "      <td>September 24, 2021</td>\n",
       "      <td>2021</td>\n",
       "      <td>TV-MA</td>\n",
       "      <td>2 Seasons</td>\n",
       "      <td>International TV Shows, TV Dramas, TV Mysteries</td>\n",
       "      <td>After crossing paths at a party, a Cape Town t...</td>\n",
       "    </tr>\n",
       "    <tr>\n",
       "      <th>2</th>\n",
       "      <td>s3</td>\n",
       "      <td>TV Show</td>\n",
       "      <td>Ganglands</td>\n",
       "      <td>Julien Leclercq</td>\n",
       "      <td>Sami Bouajila, Tracy Gotoas, Samuel Jouy, Nabi...</td>\n",
       "      <td>NaN</td>\n",
       "      <td>September 24, 2021</td>\n",
       "      <td>2021</td>\n",
       "      <td>TV-MA</td>\n",
       "      <td>1 Season</td>\n",
       "      <td>Crime TV Shows, International TV Shows, TV Act...</td>\n",
       "      <td>To protect his family from a powerful drug lor...</td>\n",
       "    </tr>\n",
       "    <tr>\n",
       "      <th>3</th>\n",
       "      <td>s4</td>\n",
       "      <td>TV Show</td>\n",
       "      <td>Jailbirds New Orleans</td>\n",
       "      <td>NaN</td>\n",
       "      <td>NaN</td>\n",
       "      <td>NaN</td>\n",
       "      <td>September 24, 2021</td>\n",
       "      <td>2021</td>\n",
       "      <td>TV-MA</td>\n",
       "      <td>1 Season</td>\n",
       "      <td>Docuseries, Reality TV</td>\n",
       "      <td>Feuds, flirtations and toilet talk go down amo...</td>\n",
       "    </tr>\n",
       "    <tr>\n",
       "      <th>4</th>\n",
       "      <td>s5</td>\n",
       "      <td>TV Show</td>\n",
       "      <td>Kota Factory</td>\n",
       "      <td>NaN</td>\n",
       "      <td>Mayur More, Jitendra Kumar, Ranjan Raj, Alam K...</td>\n",
       "      <td>India</td>\n",
       "      <td>September 24, 2021</td>\n",
       "      <td>2021</td>\n",
       "      <td>TV-MA</td>\n",
       "      <td>2 Seasons</td>\n",
       "      <td>International TV Shows, Romantic TV Shows, TV ...</td>\n",
       "      <td>In a city of coaching centers known to train I...</td>\n",
       "    </tr>\n",
       "    <tr>\n",
       "      <th>...</th>\n",
       "      <td>...</td>\n",
       "      <td>...</td>\n",
       "      <td>...</td>\n",
       "      <td>...</td>\n",
       "      <td>...</td>\n",
       "      <td>...</td>\n",
       "      <td>...</td>\n",
       "      <td>...</td>\n",
       "      <td>...</td>\n",
       "      <td>...</td>\n",
       "      <td>...</td>\n",
       "      <td>...</td>\n",
       "    </tr>\n",
       "    <tr>\n",
       "      <th>8802</th>\n",
       "      <td>s8803</td>\n",
       "      <td>Movie</td>\n",
       "      <td>Zodiac</td>\n",
       "      <td>David Fincher</td>\n",
       "      <td>Mark Ruffalo, Jake Gyllenhaal, Robert Downey J...</td>\n",
       "      <td>United States</td>\n",
       "      <td>November 20, 2019</td>\n",
       "      <td>2007</td>\n",
       "      <td>R</td>\n",
       "      <td>158 min</td>\n",
       "      <td>Cult Movies, Dramas, Thrillers</td>\n",
       "      <td>A political cartoonist, a crime reporter and a...</td>\n",
       "    </tr>\n",
       "    <tr>\n",
       "      <th>8803</th>\n",
       "      <td>s8804</td>\n",
       "      <td>TV Show</td>\n",
       "      <td>Zombie Dumb</td>\n",
       "      <td>NaN</td>\n",
       "      <td>NaN</td>\n",
       "      <td>NaN</td>\n",
       "      <td>July 1, 2019</td>\n",
       "      <td>2018</td>\n",
       "      <td>TV-Y7</td>\n",
       "      <td>2 Seasons</td>\n",
       "      <td>Kids' TV, Korean TV Shows, TV Comedies</td>\n",
       "      <td>While living alone in a spooky town, a young g...</td>\n",
       "    </tr>\n",
       "    <tr>\n",
       "      <th>8804</th>\n",
       "      <td>s8805</td>\n",
       "      <td>Movie</td>\n",
       "      <td>Zombieland</td>\n",
       "      <td>Ruben Fleischer</td>\n",
       "      <td>Jesse Eisenberg, Woody Harrelson, Emma Stone, ...</td>\n",
       "      <td>United States</td>\n",
       "      <td>November 1, 2019</td>\n",
       "      <td>2009</td>\n",
       "      <td>R</td>\n",
       "      <td>88 min</td>\n",
       "      <td>Comedies, Horror Movies</td>\n",
       "      <td>Looking to survive in a world taken over by zo...</td>\n",
       "    </tr>\n",
       "    <tr>\n",
       "      <th>8805</th>\n",
       "      <td>s8806</td>\n",
       "      <td>Movie</td>\n",
       "      <td>Zoom</td>\n",
       "      <td>Peter Hewitt</td>\n",
       "      <td>Tim Allen, Courteney Cox, Chevy Chase, Kate Ma...</td>\n",
       "      <td>United States</td>\n",
       "      <td>January 11, 2020</td>\n",
       "      <td>2006</td>\n",
       "      <td>PG</td>\n",
       "      <td>88 min</td>\n",
       "      <td>Children &amp; Family Movies, Comedies</td>\n",
       "      <td>Dragged from civilian life, a former superhero...</td>\n",
       "    </tr>\n",
       "    <tr>\n",
       "      <th>8806</th>\n",
       "      <td>s8807</td>\n",
       "      <td>Movie</td>\n",
       "      <td>Zubaan</td>\n",
       "      <td>Mozez Singh</td>\n",
       "      <td>Vicky Kaushal, Sarah-Jane Dias, Raaghav Chanan...</td>\n",
       "      <td>India</td>\n",
       "      <td>March 2, 2019</td>\n",
       "      <td>2015</td>\n",
       "      <td>TV-14</td>\n",
       "      <td>111 min</td>\n",
       "      <td>Dramas, International Movies, Music &amp; Musicals</td>\n",
       "      <td>A scrappy but poor boy worms his way into a ty...</td>\n",
       "    </tr>\n",
       "  </tbody>\n",
       "</table>\n",
       "<p>8807 rows × 12 columns</p>\n",
       "</div>"
      ],
      "text/plain": [
       "     show_id     type                  title         director  \\\n",
       "0         s1    Movie   Dick Johnson Is Dead  Kirsten Johnson   \n",
       "1         s2  TV Show          Blood & Water              NaN   \n",
       "2         s3  TV Show              Ganglands  Julien Leclercq   \n",
       "3         s4  TV Show  Jailbirds New Orleans              NaN   \n",
       "4         s5  TV Show           Kota Factory              NaN   \n",
       "...      ...      ...                    ...              ...   \n",
       "8802   s8803    Movie                 Zodiac    David Fincher   \n",
       "8803   s8804  TV Show            Zombie Dumb              NaN   \n",
       "8804   s8805    Movie             Zombieland  Ruben Fleischer   \n",
       "8805   s8806    Movie                   Zoom     Peter Hewitt   \n",
       "8806   s8807    Movie                 Zubaan      Mozez Singh   \n",
       "\n",
       "                                                   cast        country  \\\n",
       "0                                                   NaN  United States   \n",
       "1     Ama Qamata, Khosi Ngema, Gail Mabalane, Thaban...   South Africa   \n",
       "2     Sami Bouajila, Tracy Gotoas, Samuel Jouy, Nabi...            NaN   \n",
       "3                                                   NaN            NaN   \n",
       "4     Mayur More, Jitendra Kumar, Ranjan Raj, Alam K...          India   \n",
       "...                                                 ...            ...   \n",
       "8802  Mark Ruffalo, Jake Gyllenhaal, Robert Downey J...  United States   \n",
       "8803                                                NaN            NaN   \n",
       "8804  Jesse Eisenberg, Woody Harrelson, Emma Stone, ...  United States   \n",
       "8805  Tim Allen, Courteney Cox, Chevy Chase, Kate Ma...  United States   \n",
       "8806  Vicky Kaushal, Sarah-Jane Dias, Raaghav Chanan...          India   \n",
       "\n",
       "              date_added  release_year rating   duration  \\\n",
       "0     September 25, 2021          2020  PG-13     90 min   \n",
       "1     September 24, 2021          2021  TV-MA  2 Seasons   \n",
       "2     September 24, 2021          2021  TV-MA   1 Season   \n",
       "3     September 24, 2021          2021  TV-MA   1 Season   \n",
       "4     September 24, 2021          2021  TV-MA  2 Seasons   \n",
       "...                  ...           ...    ...        ...   \n",
       "8802   November 20, 2019          2007      R    158 min   \n",
       "8803        July 1, 2019          2018  TV-Y7  2 Seasons   \n",
       "8804    November 1, 2019          2009      R     88 min   \n",
       "8805    January 11, 2020          2006     PG     88 min   \n",
       "8806       March 2, 2019          2015  TV-14    111 min   \n",
       "\n",
       "                                              listed_in  \\\n",
       "0                                         Documentaries   \n",
       "1       International TV Shows, TV Dramas, TV Mysteries   \n",
       "2     Crime TV Shows, International TV Shows, TV Act...   \n",
       "3                                Docuseries, Reality TV   \n",
       "4     International TV Shows, Romantic TV Shows, TV ...   \n",
       "...                                                 ...   \n",
       "8802                     Cult Movies, Dramas, Thrillers   \n",
       "8803             Kids' TV, Korean TV Shows, TV Comedies   \n",
       "8804                            Comedies, Horror Movies   \n",
       "8805                 Children & Family Movies, Comedies   \n",
       "8806     Dramas, International Movies, Music & Musicals   \n",
       "\n",
       "                                            description  \n",
       "0     As her father nears the end of his life, filmm...  \n",
       "1     After crossing paths at a party, a Cape Town t...  \n",
       "2     To protect his family from a powerful drug lor...  \n",
       "3     Feuds, flirtations and toilet talk go down amo...  \n",
       "4     In a city of coaching centers known to train I...  \n",
       "...                                                 ...  \n",
       "8802  A political cartoonist, a crime reporter and a...  \n",
       "8803  While living alone in a spooky town, a young g...  \n",
       "8804  Looking to survive in a world taken over by zo...  \n",
       "8805  Dragged from civilian life, a former superhero...  \n",
       "8806  A scrappy but poor boy worms his way into a ty...  \n",
       "\n",
       "[8807 rows x 12 columns]"
      ]
     },
     "execution_count": 34,
     "metadata": {},
     "output_type": "execute_result"
    }
   ],
   "source": [
    "df"
   ]
  },
  {
   "cell_type": "code",
   "execution_count": 36,
   "id": "12f6ddf4-36ff-4c4c-96b7-7fee99714e2d",
   "metadata": {},
   "outputs": [
    {
     "name": "stdout",
     "output_type": "stream",
     "text": [
      "<class 'pandas.core.frame.DataFrame'>\n",
      "RangeIndex: 8807 entries, 0 to 8806\n",
      "Data columns (total 12 columns):\n",
      " #   Column        Non-Null Count  Dtype \n",
      "---  ------        --------------  ----- \n",
      " 0   show_id       8807 non-null   object\n",
      " 1   type          8807 non-null   object\n",
      " 2   title         8807 non-null   object\n",
      " 3   director      6173 non-null   object\n",
      " 4   cast          7982 non-null   object\n",
      " 5   country       7976 non-null   object\n",
      " 6   date_added    8797 non-null   object\n",
      " 7   release_year  8807 non-null   int64 \n",
      " 8   rating        8803 non-null   object\n",
      " 9   duration      8804 non-null   object\n",
      " 10  listed_in     8807 non-null   object\n",
      " 11  description   8807 non-null   object\n",
      "dtypes: int64(1), object(11)\n",
      "memory usage: 825.8+ KB\n"
     ]
    }
   ],
   "source": [
    "df.info()"
   ]
  },
  {
   "cell_type": "code",
   "execution_count": 38,
   "id": "a13f75ad-0ec1-4fea-9a6c-15b7030782b7",
   "metadata": {},
   "outputs": [
    {
     "data": {
      "text/plain": [
       "show_id            0\n",
       "type               0\n",
       "title              0\n",
       "director        2634\n",
       "cast             825\n",
       "country          831\n",
       "date_added        10\n",
       "release_year       0\n",
       "rating             4\n",
       "duration           3\n",
       "listed_in          0\n",
       "description        0\n",
       "dtype: int64"
      ]
     },
     "execution_count": 38,
     "metadata": {},
     "output_type": "execute_result"
    }
   ],
   "source": [
    "df.isnull().sum()"
   ]
  },
  {
   "cell_type": "code",
   "execution_count": null,
   "id": "8113dbb3-2d58-49df-9f97-e9793d4338f7",
   "metadata": {},
   "outputs": [],
   "source": []
  }
 ],
 "metadata": {
  "kernelspec": {
   "display_name": "Python 3 (ipykernel)",
   "language": "python",
   "name": "python3"
  },
  "language_info": {
   "codemirror_mode": {
    "name": "ipython",
    "version": 3
   },
   "file_extension": ".py",
   "mimetype": "text/x-python",
   "name": "python",
   "nbconvert_exporter": "python",
   "pygments_lexer": "ipython3",
   "version": "3.11.7"
  }
 },
 "nbformat": 4,
 "nbformat_minor": 5
}
